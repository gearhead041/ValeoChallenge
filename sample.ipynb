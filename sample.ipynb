{
 "cells": [
  {
   "cell_type": "markdown",
   "metadata": {},
   "source": [
    "First import necessary libraries and read the input data. We're going to do some explorations on the data to understand it better.\n"
   ]
  },
  {
   "cell_type": "code",
   "execution_count": null,
   "metadata": {},
   "outputs": [],
   "source": [
    "import pandas as pd\n",
    "import seaborn as sns\n",
    "import matplotlib.pyplot as plt\n",
    "\n",
    "#remove the date columns\n",
    "# we can't really use them for anything as pertains to predicting the outcome\n",
    "# at least that's what I think\n",
    "x = pd.read_csv('./traininginputs.csv')\n",
    "x.drop(columns=['PROC_TRACEINFO'],inplace=True)\n",
    "y = pd.read_csv('./trainingoutput.csv')\n",
    "y.drop(columns=['PROC_TRACEINFO'],inplace=True)\n",
    "\n",
    "# we need to convert the Binar OP130_Resultat_Global_v to a boolean\n",
    "y['Binar OP130_Resultat_Global_v'] = y['Binar OP130_Resultat_Global_v'].astype(\n",
    "    'bool')\n",
    "\n",
    "# we're just creating this to explore the data x & y is what will be actualy used\n",
    "training = pd.concat([x, y['Binar OP130_Resultat_Global_v']], axis=1)\n",
    "\n",
    "# training.describe(include='all')"
   ]
  },
  {
   "cell_type": "markdown",
   "metadata": {},
   "source": [
    "Using the df.corr() function we can see how much the columns are related to the target"
   ]
  },
  {
   "cell_type": "code",
   "execution_count": null,
   "metadata": {},
   "outputs": [],
   "source": [
    "\n",
    "training.corr(numeric_only=True)['Binar OP130_Resultat_Global_v'].sort_values(ascending=False)\n"
   ]
  },
  {
   "cell_type": "markdown",
   "metadata": {},
   "source": [
    "No column has a signficantly high correlation with the target. So no liner models for this one.\n",
    "\n",
    "Since there is little correlation, we have to use a non-linear model to predict the target. We will use a Random Forest Classifier, this can handle missing values, which we have and is less prone to overfitting like a single decision tree.\n",
    "\n",
    "https://scikit-learn.org/stable/modules/generated/sklearn.ensemble.RandomForestClassifier.html"
   ]
  },
  {
   "cell_type": "code",
   "execution_count": null,
   "metadata": {},
   "outputs": [
    {
     "name": "stdout",
     "output_type": "stream",
     "text": [
      "Random Forest Classifier Accuracy: 0.6849951079030442\n",
      "Random Forest Classifier Accuracy: 0.7418009039286129\n"
     ]
    }
   ],
   "source": [
    "from numpy import ravel\n",
    "from sklearn.ensemble import RandomForestClassifier\n",
    "from sklearn.metrics import auc, roc_curve, accuracy_score\n",
    "from sklearn.model_selection import train_test_split\n",
    "\n",
    "X_train, X_test, y_train, y_test = train_test_split(\n",
    "    x, y, test_size=0.25, random_state=42, shuffle=True)\n",
    "#tweak these variables to get a better model. Good luck!\n",
    "#you can also look up GridSearchCV to automate this process, ask ChatGPT\n",
    "rf = RandomForestClassifier(class_weight='balanced', random_state=42, n_estimators=12,\n",
    "                            max_depth=7, min_samples_leaf=0.05,max_features=0.65)\n",
    "rf.fit(X_train, ravel(y_train))\n",
    "y_pred = rf.predict(X_test)\n",
    "\n",
    "# Evaluate Model\n",
    "# Get probability scores for the positive class\n",
    "y_probs = rf.predict_proba(X_test)[:, 1]\n",
    "\n",
    "fpr, tpr, thresholds = roc_curve(y_test, y_probs)\n",
    "rf_auc = auc(fpr, tpr)  # Compute AUC Score\n",
    "\n",
    "print(f'Random Forest Classifier Accuracy: {rf_auc}') #should be 0.685, try for 0.7\n",
    "print(f'Random Forest Classifier Accuracy: {accuracy_score(y_test, y_pred)}') #not so important here, but its 0.742"
   ]
  },
  {
   "cell_type": "markdown",
   "metadata": {},
   "source": [
    "We should try to make something like the sample submission file, using our model. But you can do that, hmm?"
   ]
  }
 ],
 "metadata": {
  "kernelspec": {
   "display_name": "Python 3",
   "language": "python",
   "name": "python3"
  },
  "language_info": {
   "codemirror_mode": {
    "name": "ipython",
    "version": 3
   },
   "file_extension": ".py",
   "mimetype": "text/x-python",
   "name": "python",
   "nbconvert_exporter": "python",
   "pygments_lexer": "ipython3",
   "version": "3.12.1"
  }
 },
 "nbformat": 4,
 "nbformat_minor": 2
}
